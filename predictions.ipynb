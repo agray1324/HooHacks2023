{
 "cells": [
  {
   "cell_type": "code",
   "execution_count": null,
   "metadata": {
    "collapsed": true
   },
   "outputs": [],
   "source": [
    "import pandas as pd\n",
    "from sklearn.neighbors import KNeighborsRegressor\n",
    "import pickle\n",
    "\n",
    "import warnings\n",
    "warnings.filterwarnings('ignore')\n",
    "import ipywidgets as widgets\n",
    "from IPython.display import display, clear_output"
   ]
  },
  {
   "cell_type": "code",
   "execution_count": null,
   "outputs": [],
   "source": [
    "high_model = pickle.load(open('high_model', 'rb'))\n",
    "low_model = pickle.load(open('low_model', 'rb'))\n",
    "pressure_model = pickle.load(open('pressure_model', 'rb'))"
   ],
   "metadata": {
    "collapsed": false
   }
  },
  {
   "cell_type": "code",
   "execution_count": null,
   "outputs": [],
   "source": [
    "import datetime\n",
    "import requests\n",
    "import math\n",
    "\n",
    "def get_ip():\n",
    "    api_url = \"https://ipinfo.io/json\"\n",
    "    print(\"requesting ip\")\n",
    "    response = requests.get(api_url)\n",
    "    print(\"done requesting ip\")\n",
    "    ip = response.json()[\"ip\"].split(\",\")\n",
    "    return str(ip[0])\n",
    "\n",
    "def get_wet(temp, hum):\n",
    "    return temp * math.atan(0.152*(hum+8.3136)**2)+math.atan(temp+hum)-math.atan(hum-1.6763)+0.00391838*hum**(3/2)*math.atan(.0231*hum)-4.686\n",
    "\n",
    "\n",
    "ip = get_ip()\n",
    "\n",
    "now = datetime.datetime.now()\n",
    "days = []\n",
    "days.append(str(now.replace(hour=0, minute=0, second=0, microsecond=0) - datetime.timedelta(days=1))[:11])\n",
    "days.append(str(now.replace(hour=0, minute=0, second=0, microsecond=0) - datetime.timedelta(days=2))[:11])\n",
    "days.append(str(now.replace(hour=0, minute=0, second=0, microsecond=0) - datetime.timedelta(days=3))[:11])\n",
    "days.append(str(now.replace(hour=0, minute=0, second=0, microsecond=0) - datetime.timedelta(days=4))[:11])\n",
    "print(ip)\n",
    "built_api_url = \"http://api.weatherapi.com/v1/history.json?key=fa024d2a350b4df484c42502232603 &q=\" + ip + \"&dt=\"\n",
    "temp_mins =[]\n",
    "temp_maxs = []\n",
    "winds = []\n",
    "humidities=[]\n",
    "wet_lows=[]\n",
    "wet_highs=[]\n",
    "count = 0\n",
    "pressures=[]\n",
    "for day in days:\n",
    "    response = requests.get(built_api_url+day)\n",
    "    j = response.json()\n",
    "    min = j[\"forecast\"][\"forecastday\"][0][\"day\"][\"mintemp_f\"]\n",
    "    temp_mins.append(min)\n",
    "    max = j[\"forecast\"][\"forecastday\"][0][\"day\"][\"maxtemp_f\"]\n",
    "    temp_maxs.append(max)\n",
    "    wind = j[\"forecast\"][\"forecastday\"][0][\"day\"][\"maxwind_mph\"]\n",
    "    winds.append(wind)\n",
    "    humidity = j[\"forecast\"][\"forecastday\"][0][\"day\"][\"avghumidity\"]\n",
    "    humidities.append(humidity)\n",
    "    pressure = j[\"forecast\"][\"forecastday\"][0][\"hour\"][0][\"pressure_in\"]\n",
    "    pressures.append(pressure)\n",
    "    wet_highs.append(get_wet(max, humidity))\n",
    "    wet_lows.append(get_wet(min, humidity))\n",
    "    count += 1"
   ],
   "metadata": {
    "collapsed": false
   }
  },
  {
   "cell_type": "code",
   "execution_count": null,
   "outputs": [],
   "source": [
    "past_days = pd.DataFrame([[temp_maxs[0], temp_maxs[1], temp_maxs[2], temp_maxs[3], temp_mins[0], temp_mins[1], temp_mins[2], temp_mins[3], wet_highs[0], wet_highs[1], wet_highs[2], wet_highs[3], wet_lows[0], wet_lows[1], wet_lows[2], wet_lows[3], humidities[0], humidities[1], humidities[2], humidities[3], winds[0], winds[1], winds[2], winds[3], pressures[0], pressures[1], pressures[2], pressures[3]]], columns=['High-1', 'High-2', 'High-3', 'High-4',\n",
    "                'Low-1', 'Low-2', 'Low-3', 'Low-4',\n",
    "                'WetBulb_High-1', 'WetBulb_High-2', 'WetBulb_High-3', 'WetBulb_High-4',\n",
    "                'WetBulb_Low-1', 'WetBulb_Low-2', 'WetBulb_Low-3', 'WetBulb_Low-4',\n",
    "                'Humidity-1', 'Humidity-2', 'Humidity-3', 'Humidity-4',\n",
    "                'WindSpeed-1', 'WindSpeed-2', 'WindSpeed-3', 'WindSpeed-4',\n",
    "                'Pressure-1', 'Pressure-2', 'Pressure-3', 'Pressure-4'])"
   ],
   "metadata": {
    "collapsed": false
   }
  },
  {
   "cell_type": "code",
   "execution_count": null,
   "outputs": [],
   "source": [
    "high_prediction = high_model.predict(past_days)[0]\n",
    "w1 = widgets.FloatText(value=high_prediction)\n",
    "low_prediction = low_model.predict(past_days)[0]\n",
    "w2 = widgets.FloatText(value=low_prediction)\n",
    "pressure_prediction = pressure_model.predict(past_days)[0]\n",
    "w3 = widgets.FloatText(value=pressure_prediction)"
   ],
   "metadata": {
    "collapsed": false
   }
  },
  {
   "cell_type": "code",
   "execution_count": null,
   "outputs": [],
   "source": [
    "text_1 = widgets.HTML(value=\"<h1>The high for today is: </h1>\")\n",
    "text_2 = widgets.HTML(value=\"<h2>The low for today is: </h2>\")\n",
    "text_3 = widgets.HTML(value=\"<h3>The low for today is: </h3>\")\n",
    "\n",
    "vbox_text = widgets.VBox([text_1, w1, text_2, w2, text_3, w3])"
   ],
   "metadata": {
    "collapsed": false
   }
  },
  {
   "cell_type": "code",
   "execution_count": null,
   "outputs": [],
   "source": [
    "page = widgets.HBox([vbox_text])\n",
    "display(page)"
   ],
   "metadata": {
    "collapsed": false
   }
  }
 ],
 "metadata": {
  "kernelspec": {
   "display_name": "Python 3",
   "language": "python",
   "name": "python3"
  },
  "language_info": {
   "codemirror_mode": {
    "name": "ipython",
    "version": 2
   },
   "file_extension": ".py",
   "mimetype": "text/x-python",
   "name": "python",
   "nbconvert_exporter": "python",
   "pygments_lexer": "ipython2",
   "version": "2.7.6"
  }
 },
 "nbformat": 4,
 "nbformat_minor": 0
}
