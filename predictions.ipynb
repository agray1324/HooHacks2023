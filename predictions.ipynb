{
 "cells": [
  {
   "cell_type": "code",
   "execution_count": null,
   "metadata": {
    "collapsed": true
   },
   "outputs": [],
   "source": [
    "import pandas as pd\n",
    "from sklearn.neighbors import KNeighborsRegressor\n",
    "import pickle\n",
    "\n",
    "import warnings\n",
    "warnings.filterwarnings('ignore')\n",
    "import ipywidgets as widgets\n",
    "from IPython.display import display, clear_output"
   ]
  },
  {
   "cell_type": "code",
   "execution_count": null,
   "outputs": [],
   "source": [
    "high_model = pickle.load(open('high_model', 'rb'))\n",
    "low_model = pickle.load(open('low_model', 'rb'))\n",
    "pressure_model = pickle.load(open('pressure_model', 'rb'))"
   ],
   "metadata": {
    "collapsed": false
   }
  },
  {
   "cell_type": "code",
   "execution_count": null,
   "outputs": [],
   "source": [
    "#past_days = pd.DataFrame()"
   ],
   "metadata": {
    "collapsed": false
   }
  },
  {
   "cell_type": "code",
   "execution_count": null,
   "outputs": [],
   "source": [
    "high_prediction = widgets.Text(value='1')#high_model.predict(past_days)\n",
    "low_prediction = widgets.Text(value='2')#low_model.predict(past_days)\n",
    "pressure_prediction = widgets.Text(value='3')#pressure_model.predict(past_days)"
   ],
   "metadata": {
    "collapsed": false
   }
  },
  {
   "cell_type": "code",
   "execution_count": null,
   "outputs": [],
   "source": [
    "text_1 = widgets.HTML(value=\"<h1>The high for today is: </h1>\")\n",
    "text_2 = widgets.HTML(value=\"<h2>The low for today is: </h2>\")\n",
    "text_3 = widgets.HTML(value=\"<h3>The low for today is: </h3>\")\n",
    "\n",
    "vbox_text = widgets.VBox([text_1, high_prediction, text_2, low_prediction, text_3, pressure_prediction])"
   ],
   "metadata": {
    "collapsed": false
   }
  },
  {
   "cell_type": "code",
   "execution_count": null,
   "outputs": [],
   "source": [
    "page = widgets.HBox([vbox_text])\n",
    "display(page)"
   ],
   "metadata": {
    "collapsed": false
   }
  }
 ],
 "metadata": {
  "kernelspec": {
   "display_name": "Python 3",
   "language": "python",
   "name": "python3"
  },
  "language_info": {
   "codemirror_mode": {
    "name": "ipython",
    "version": 2
   },
   "file_extension": ".py",
   "mimetype": "text/x-python",
   "name": "python",
   "nbconvert_exporter": "python",
   "pygments_lexer": "ipython2",
   "version": "2.7.6"
  }
 },
 "nbformat": 4,
 "nbformat_minor": 0
}
